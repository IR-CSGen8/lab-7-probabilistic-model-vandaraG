{
 "cells": [
  {
   "cell_type": "code",
   "execution_count": 1,
   "id": "3c892250",
   "metadata": {},
   "outputs": [],
   "source": [
    "# Import necessary libraries\n",
    "from collections import defaultdict\n",
    "\n",
    "# Define the documents\n",
    "documents = [\n",
    "    \"I love cats . cats are cute pets.\",\n",
    "    \"Dogs are loyal. Dogs are good friends.\",\n",
    "    \"Birds can sing. Birds fly in the sky.\",\n",
    "    \"Fish live underwater. Fish come in many colors.\"\n",
    "]"
   ]
  },
  {
   "cell_type": "markdown",
   "id": "2a685610",
   "metadata": {},
   "source": [
    "In this section, we define and create unigram models for the documents. Unigrams are single words or terms, and a unigram model represents the probability distribution of individual terms in the document. The unigram_model function counts the occurrences of each term in a document, calculates the probabilities, and returns the unigram model. We create unigram models for all documents in the collection."
   ]
  },
  {
   "cell_type": "markdown",
   "id": "a8d0e623",
   "metadata": {},
   "source": [
    "# Create Unigram Models"
   ]
  },
  {
   "cell_type": "code",
   "execution_count": 2,
   "id": "2d589155",
   "metadata": {},
   "outputs": [],
   "source": [
    "def unigram_model(document):\n",
    "    words = document.split()\n",
    "    total_words = len(words)\n",
    "    unigram_counts = defaultdict(int)\n",
    "    for word in words:\n",
    "        unigram_counts[word] += 1\n",
    "    unigram_model = {word: count / total_words for word, count in unigram_counts.items()}\n",
    "    return unigram_model"
   ]
  },
  {
   "cell_type": "code",
   "execution_count": 3,
   "id": "9c571b22",
   "metadata": {},
   "outputs": [],
   "source": [
    "# Create unigram models for all documents\n",
    "unigram_models = [unigram_model(doc) for doc in documents]"
   ]
  },
  {
   "cell_type": "code",
   "execution_count": 4,
   "id": "a16bdec3",
   "metadata": {},
   "outputs": [
    {
     "data": {
      "text/plain": [
       "[{'I': 0.125,\n",
       "  'love': 0.125,\n",
       "  'cats': 0.25,\n",
       "  '.': 0.125,\n",
       "  'are': 0.125,\n",
       "  'cute': 0.125,\n",
       "  'pets.': 0.125},\n",
       " {'Dogs': 0.2857142857142857,\n",
       "  'are': 0.2857142857142857,\n",
       "  'loyal.': 0.14285714285714285,\n",
       "  'good': 0.14285714285714285,\n",
       "  'friends.': 0.14285714285714285},\n",
       " {'Birds': 0.25,\n",
       "  'can': 0.125,\n",
       "  'sing.': 0.125,\n",
       "  'fly': 0.125,\n",
       "  'in': 0.125,\n",
       "  'the': 0.125,\n",
       "  'sky.': 0.125},\n",
       " {'Fish': 0.25,\n",
       "  'live': 0.125,\n",
       "  'underwater.': 0.125,\n",
       "  'come': 0.125,\n",
       "  'in': 0.125,\n",
       "  'many': 0.125,\n",
       "  'colors.': 0.125}]"
      ]
     },
     "execution_count": 4,
     "metadata": {},
     "output_type": "execute_result"
    }
   ],
   "source": [
    "unigram_models"
   ]
  },
  {
   "cell_type": "code",
   "execution_count": 5,
   "id": "faa6e564",
   "metadata": {},
   "outputs": [],
   "source": [
    "#we have a query \n",
    "query = \"I like cats and dogs\""
   ]
  },
  {
   "cell_type": "code",
   "execution_count": 6,
   "id": "85f84e9b",
   "metadata": {},
   "outputs": [],
   "source": [
    "def calculate_query_probability(query, document_model):\n",
    "    # Tokenize the query into words\n",
    "    query_words = query.split()\n",
    "    \n",
    "    # Initialize the probability for the entire query\n",
    "    query_probability = 1.0\n",
    "    \n",
    "    # Calculate the probability for each term in the query\n",
    "    for word in query_words:\n",
    "        if word in document_model:\n",
    "            query_probability *= document_model[word]\n",
    "        else:\n",
    "            query_probability = 0.0\n",
    "            break\n",
    "    \n",
    "    return query_probability"
   ]
  },
  {
   "cell_type": "code",
   "execution_count": 26,
   "id": "25934062",
   "metadata": {},
   "outputs": [],
   "source": [
    "query_probability = calculate_query_probability(query, unigram_models)"
   ]
  },
  {
   "cell_type": "code",
   "execution_count": 8,
   "id": "e57e1768",
   "metadata": {},
   "outputs": [
    {
     "data": {
      "text/plain": [
       "0.0"
      ]
     },
     "execution_count": 8,
     "metadata": {},
     "output_type": "execute_result"
    }
   ],
   "source": [
    "query_probability"
   ]
  },
  {
   "cell_type": "markdown",
   "id": "f2641c2c",
   "metadata": {},
   "source": [
    "## Your task"
   ]
  },
  {
   "cell_type": "code",
   "execution_count": 43,
   "id": "771db8aa",
   "metadata": {},
   "outputs": [],
   "source": [
    "# Use Laplace Smoothing for this problem\n",
    "\n",
    "# https://www.exploredatabase.com/2020/10/explain-add-1-laplace-smoothing-with-example.html\n",
    "def unigram_model(document):\n",
    "    words = document.split()\n",
    "    total_words = len(words)\n",
    "    unigram_counts = defaultdict(int)\n",
    "    for word in words:\n",
    "        unigram_counts[word] += 1\n",
    "    unigram_model = {word: (count + 1) / (total_words + len(unigram_counts)) for word, count in unigram_counts.items()}\n",
    "    return unigram_model\n",
    "unigram_models = [unigram_model(doc) for doc in documents]\n",
    "\n"
   ]
  },
  {
   "cell_type": "code",
   "execution_count": 44,
   "metadata": {},
   "outputs": [
    {
     "data": {
      "text/plain": [
       "[{'I': 0.13333333333333333,\n",
       "  'love': 0.13333333333333333,\n",
       "  'cats': 0.2,\n",
       "  '.': 0.13333333333333333,\n",
       "  'are': 0.13333333333333333,\n",
       "  'cute': 0.13333333333333333,\n",
       "  'pets.': 0.13333333333333333},\n",
       " {'Dogs': 0.25,\n",
       "  'are': 0.25,\n",
       "  'loyal.': 0.16666666666666666,\n",
       "  'good': 0.16666666666666666,\n",
       "  'friends.': 0.16666666666666666},\n",
       " {'Birds': 0.2,\n",
       "  'can': 0.13333333333333333,\n",
       "  'sing.': 0.13333333333333333,\n",
       "  'fly': 0.13333333333333333,\n",
       "  'in': 0.13333333333333333,\n",
       "  'the': 0.13333333333333333,\n",
       "  'sky.': 0.13333333333333333},\n",
       " {'Fish': 0.2,\n",
       "  'live': 0.13333333333333333,\n",
       "  'underwater.': 0.13333333333333333,\n",
       "  'come': 0.13333333333333333,\n",
       "  'in': 0.13333333333333333,\n",
       "  'many': 0.13333333333333333,\n",
       "  'colors.': 0.13333333333333333}]"
      ]
     },
     "execution_count": 44,
     "metadata": {},
     "output_type": "execute_result"
    }
   ],
   "source": [
    "unigram_models"
   ]
  },
  {
   "cell_type": "code",
   "execution_count": 45,
   "metadata": {},
   "outputs": [],
   "source": [
    "query = \"I like cats and dogs\""
   ]
  },
  {
   "cell_type": "code",
   "execution_count": 46,
   "metadata": {},
   "outputs": [],
   "source": [
    "def calculate_query_probability(query, document_models, smoothing_factor=1):\n",
    "    query_probability = 1.0\n",
    "    \n",
    "    for document_model in document_models:\n",
    "        document_probability = 1.0\n",
    "        total_words = sum(document_model.values())  # Total word count in the document_model\n",
    "        for word in query.split():\n",
    "            if word in document_model:\n",
    "                document_probability *= document_model[word]\n",
    "            else:\n",
    "                vocabulary_size = len(document_model)\n",
    "                document_probability *= smoothing_factor / (total_words + smoothing_factor * vocabulary_size)\n",
    "        query_probability *= document_probability\n",
    "\n",
    "    return query_probability\n"
   ]
  },
  {
   "cell_type": "code",
   "execution_count": 47,
   "metadata": {},
   "outputs": [
    {
     "name": "stdout",
     "output_type": "stream",
     "text": [
      "Query Probability with Laplace Smoothing: 6.237960917509796e-18\n"
     ]
    }
   ],
   "source": [
    "query_probability = calculate_query_probability(query, unigram_models, smoothing_factor=1)\n",
    "print(\"Query Probability with Laplace Smoothing:\", query_probability)"
   ]
  },
  {
   "cell_type": "code",
   "execution_count": 52,
   "id": "a7f2705d",
   "metadata": {},
   "outputs": [
    {
     "name": "stdout",
     "output_type": "stream",
     "text": [
      "Probability of ('I', 'love'): 0.0741\n"
     ]
    }
   ],
   "source": [
    "from collections import defaultdict\n",
    "\n",
    "def create_bigram_model(documents, smoothing_factor=1):\n",
    "    # Tokenize the documents and create a list of words\n",
    "    words = [document.split() for document in documents]\n",
    "    \n",
    "    # Initialize counts for bigrams and vocabulary size\n",
    "    bigram_counts = defaultdict(int)\n",
    "    vocab_size = 0\n",
    "    \n",
    "    # Count the bigrams and vocabulary size\n",
    "    for document in words:\n",
    "        for i in range(len(document) - 1):\n",
    "            bigram = (document[i], document[i + 1])\n",
    "            bigram_counts[bigram] += 1\n",
    "            vocab_size += 1\n",
    "\n",
    "    bigram_model = {}\n",
    "    for bigram, count in bigram_counts.items():\n",
    "        preceding_word = bigram[0]\n",
    "        bigram_model[bigram] = (count + smoothing_factor) / (words.count(preceding_word) + (smoothing_factor * vocab_size))\n",
    "    \n",
    "    return bigram_model\n",
    "\n",
    "# Create a bigram model for the documents\n",
    "bigram_model = create_bigram_model(documents)\n",
    "\n",
    "# Print the probability of a specific bigram, e.g., (\"I\", \"love\")\n",
    "probability = bigram_model.get((\"I\", \"love\"), 0.0)\n",
    "print(\"Probability of ('I', 'love'): {:.4f}\".format(probability))\n"
   ]
  },
  {
   "cell_type": "code",
   "execution_count": null,
   "metadata": {},
   "outputs": [],
   "source": []
  }
 ],
 "metadata": {
  "kernelspec": {
   "display_name": "Python 3",
   "language": "python",
   "name": "python3"
  },
  "language_info": {
   "codemirror_mode": {
    "name": "ipython",
    "version": 3
   },
   "file_extension": ".py",
   "mimetype": "text/x-python",
   "name": "python",
   "nbconvert_exporter": "python",
   "pygments_lexer": "ipython3",
   "version": "3.11.4"
  }
 },
 "nbformat": 4,
 "nbformat_minor": 5
}
